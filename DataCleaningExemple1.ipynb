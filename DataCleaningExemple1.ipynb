{
 "cells": [
  {
   "cell_type": "code",
   "execution_count": 31,
   "id": "5ca37ad9",
   "metadata": {},
   "outputs": [
    {
     "name": "stdout",
     "output_type": "stream",
     "text": [
      "   prenom                                   email date_naissance  \\\n",
      "0   Leila                       leila@example.com     23/01/1990   \n",
      "1  Samuel                  samuel_329@example.com     20/09/2001   \n",
      "2   Radia                choupipoune@supermail.eu  12 sept. 1984   \n",
      "3    Marc  marco23@example.com, mc23@supermail.eu     10/02/1978   \n",
      "4    Heri                 helloworld@supermail.eu     05/03/2008   \n",
      "5   Hanna                  hanna2019@supermail.eu     01/01/1970   \n",
      "6  samuël                  samuel_329@example.com            NaN   \n",
      "\n",
      "            pays taille  \n",
      "0         France  1.49m  \n",
      "1            NaN  1.67m  \n",
      "2  Côte d'ivoire  153cm  \n",
      "3         France  1.65m  \n",
      "4     Madagascar  1.34m  \n",
      "5             24  3.45m  \n",
      "6          Bénin  1.45m  \n"
     ]
    }
   ],
   "source": [
    "import pandas as pd\n",
    "import numpy as np\n",
    "import re\n",
    "# chargement et affichage des données\n",
    "data = pd.read_csv('personnes.csv')\n",
    "print(data)"
   ]
  },
  {
   "cell_type": "code",
   "execution_count": 2,
   "id": "c3f9cfe0",
   "metadata": {},
   "outputs": [
    {
     "name": "stdout",
     "output_type": "stream",
     "text": [
      "prenom            0\n",
      "email             0\n",
      "date_naissance    1\n",
      "pays              1\n",
      "taille            0\n",
      "dtype: int64\n"
     ]
    }
   ],
   "source": [
    "print(data.isnull().sum())"
   ]
  },
  {
   "cell_type": "code",
   "execution_count": 17,
   "id": "6c6cf86c",
   "metadata": {},
   "outputs": [],
   "source": []
  },
  {
   "cell_type": "code",
   "execution_count": 18,
   "id": "5083920c",
   "metadata": {},
   "outputs": [
    {
     "data": {
      "text/html": [
       "<div>\n",
       "<style scoped>\n",
       "    .dataframe tbody tr th:only-of-type {\n",
       "        vertical-align: middle;\n",
       "    }\n",
       "\n",
       "    .dataframe tbody tr th {\n",
       "        vertical-align: top;\n",
       "    }\n",
       "\n",
       "    .dataframe thead th {\n",
       "        text-align: right;\n",
       "    }\n",
       "</style>\n",
       "<table border=\"1\" class=\"dataframe\">\n",
       "  <thead>\n",
       "    <tr style=\"text-align: right;\">\n",
       "      <th></th>\n",
       "      <th>prenom</th>\n",
       "      <th>email</th>\n",
       "      <th>date_naissance</th>\n",
       "      <th>pays</th>\n",
       "      <th>taille</th>\n",
       "    </tr>\n",
       "  </thead>\n",
       "  <tbody>\n",
       "    <tr>\n",
       "      <th>0</th>\n",
       "      <td>Leila</td>\n",
       "      <td>leila@example.com</td>\n",
       "      <td>23/01/1990</td>\n",
       "      <td>France</td>\n",
       "      <td>1.49m</td>\n",
       "    </tr>\n",
       "    <tr>\n",
       "      <th>3</th>\n",
       "      <td>Marc</td>\n",
       "      <td>marco23@example.com, mc23@supermail.eu</td>\n",
       "      <td>10/02/1978</td>\n",
       "      <td>France</td>\n",
       "      <td>1.65m</td>\n",
       "    </tr>\n",
       "  </tbody>\n",
       "</table>\n",
       "</div>"
      ],
      "text/plain": [
       "  prenom                                   email date_naissance    pays taille\n",
       "0  Leila                       leila@example.com     23/01/1990  France  1.49m\n",
       "3   Marc  marco23@example.com, mc23@supermail.eu     10/02/1978  France  1.65m"
      ]
     },
     "execution_count": 18,
     "metadata": {},
     "output_type": "execute_result"
    }
   ],
   "source": [
    "data.loc[data['pays'].duplicated(keep=False),:]"
   ]
  },
  {
   "cell_type": "code",
   "execution_count": 22,
   "id": "5bc517aa",
   "metadata": {},
   "outputs": [
    {
     "data": {
      "text/html": [
       "<div>\n",
       "<style scoped>\n",
       "    .dataframe tbody tr th:only-of-type {\n",
       "        vertical-align: middle;\n",
       "    }\n",
       "\n",
       "    .dataframe tbody tr th {\n",
       "        vertical-align: top;\n",
       "    }\n",
       "\n",
       "    .dataframe thead th {\n",
       "        text-align: right;\n",
       "    }\n",
       "</style>\n",
       "<table border=\"1\" class=\"dataframe\">\n",
       "  <thead>\n",
       "    <tr style=\"text-align: right;\">\n",
       "      <th></th>\n",
       "      <th>prenom</th>\n",
       "      <th>email</th>\n",
       "      <th>date_naissance</th>\n",
       "      <th>pays</th>\n",
       "      <th>taille</th>\n",
       "    </tr>\n",
       "  </thead>\n",
       "  <tbody>\n",
       "    <tr>\n",
       "      <th>1</th>\n",
       "      <td>Samuel</td>\n",
       "      <td>samuel_329@example.com</td>\n",
       "      <td>20/09/2001</td>\n",
       "      <td>NaN</td>\n",
       "      <td>1.67m</td>\n",
       "    </tr>\n",
       "    <tr>\n",
       "      <th>6</th>\n",
       "      <td>samuël</td>\n",
       "      <td>samuel_329@example.com</td>\n",
       "      <td>NaN</td>\n",
       "      <td>Bénin</td>\n",
       "      <td>1.45m</td>\n",
       "    </tr>\n",
       "  </tbody>\n",
       "</table>\n",
       "</div>"
      ],
      "text/plain": [
       "   prenom                   email date_naissance   pays taille\n",
       "1  Samuel  samuel_329@example.com     20/09/2001    NaN  1.67m\n",
       "6  samuël  samuel_329@example.com            NaN  Bénin  1.45m"
      ]
     },
     "execution_count": 22,
     "metadata": {},
     "output_type": "execute_result"
    }
   ],
   "source": [
    "data.groupby('email').filter(lambda x: len(x) > 1)"
   ]
  },
  {
   "cell_type": "code",
   "execution_count": 24,
   "id": "7b18f8bd",
   "metadata": {},
   "outputs": [
    {
     "data": {
      "text/html": [
       "<div>\n",
       "<style scoped>\n",
       "    .dataframe tbody tr th:only-of-type {\n",
       "        vertical-align: middle;\n",
       "    }\n",
       "\n",
       "    .dataframe tbody tr th {\n",
       "        vertical-align: top;\n",
       "    }\n",
       "\n",
       "    .dataframe thead th {\n",
       "        text-align: right;\n",
       "    }\n",
       "</style>\n",
       "<table border=\"1\" class=\"dataframe\">\n",
       "  <thead>\n",
       "    <tr style=\"text-align: right;\">\n",
       "      <th></th>\n",
       "      <th>prenom</th>\n",
       "      <th>email</th>\n",
       "      <th>date_naissance</th>\n",
       "      <th>pays</th>\n",
       "      <th>taille</th>\n",
       "    </tr>\n",
       "  </thead>\n",
       "  <tbody>\n",
       "    <tr>\n",
       "      <th>0</th>\n",
       "      <td>Leila</td>\n",
       "      <td>leila@example.com</td>\n",
       "      <td>23/01/1990</td>\n",
       "      <td>France</td>\n",
       "      <td>1.49m</td>\n",
       "    </tr>\n",
       "    <tr>\n",
       "      <th>1</th>\n",
       "      <td>Samuel</td>\n",
       "      <td>samuel_329@example.com</td>\n",
       "      <td>20/09/2001</td>\n",
       "      <td>NaN</td>\n",
       "      <td>1.67m</td>\n",
       "    </tr>\n",
       "    <tr>\n",
       "      <th>2</th>\n",
       "      <td>Radia</td>\n",
       "      <td>choupipoune@supermail.eu</td>\n",
       "      <td>12 sept. 1984</td>\n",
       "      <td>Côte d'ivoire</td>\n",
       "      <td>153cm</td>\n",
       "    </tr>\n",
       "    <tr>\n",
       "      <th>3</th>\n",
       "      <td>Marc</td>\n",
       "      <td>marco23@example.com, mc23@supermail.eu</td>\n",
       "      <td>10/02/1978</td>\n",
       "      <td>France</td>\n",
       "      <td>1.65m</td>\n",
       "    </tr>\n",
       "    <tr>\n",
       "      <th>4</th>\n",
       "      <td>Heri</td>\n",
       "      <td>helloworld@supermail.eu</td>\n",
       "      <td>05/03/2008</td>\n",
       "      <td>Madagascar</td>\n",
       "      <td>1.34m</td>\n",
       "    </tr>\n",
       "    <tr>\n",
       "      <th>5</th>\n",
       "      <td>Hanna</td>\n",
       "      <td>hanna2019@supermail.eu</td>\n",
       "      <td>01/01/1970</td>\n",
       "      <td>24</td>\n",
       "      <td>3.45m</td>\n",
       "    </tr>\n",
       "    <tr>\n",
       "      <th>6</th>\n",
       "      <td>samuël</td>\n",
       "      <td>samuel_329@example.com</td>\n",
       "      <td>NaN</td>\n",
       "      <td>Bénin</td>\n",
       "      <td>1.45m</td>\n",
       "    </tr>\n",
       "  </tbody>\n",
       "</table>\n",
       "</div>"
      ],
      "text/plain": [
       "   prenom                                   email date_naissance  \\\n",
       "0   Leila                       leila@example.com     23/01/1990   \n",
       "1  Samuel                  samuel_329@example.com     20/09/2001   \n",
       "2   Radia                choupipoune@supermail.eu  12 sept. 1984   \n",
       "3    Marc  marco23@example.com, mc23@supermail.eu     10/02/1978   \n",
       "4    Heri                 helloworld@supermail.eu     05/03/2008   \n",
       "5   Hanna                  hanna2019@supermail.eu     01/01/1970   \n",
       "6  samuël                  samuel_329@example.com            NaN   \n",
       "\n",
       "            pays taille  \n",
       "0         France  1.49m  \n",
       "1            NaN  1.67m  \n",
       "2  Côte d'ivoire  153cm  \n",
       "3         France  1.65m  \n",
       "4     Madagascar  1.34m  \n",
       "5             24  3.45m  \n",
       "6          Bénin  1.45m  "
      ]
     },
     "execution_count": 24,
     "metadata": {},
     "output_type": "execute_result"
    }
   ],
   "source": [
    "data.drop_duplicates(keep=False)"
   ]
  },
  {
   "cell_type": "code",
   "execution_count": 25,
   "id": "c65d4bd3",
   "metadata": {},
   "outputs": [],
   "source": [
    "mask = data['email'].duplicated(keep=False)"
   ]
  },
  {
   "cell_type": "code",
   "execution_count": 32,
   "id": "538b63bf",
   "metadata": {},
   "outputs": [],
   "source": [
    "VALID_COUNTRIES = ['France', 'Côte d\\'ivoire', 'Madagascar','Bénin', 'Allemagne', 'USA']\n",
    "mask = ~data['pays'].isin(VALID_COUNTRIES)\n",
    "data.loc[mask, 'pays'] = np.NaN"
   ]
  },
  {
   "cell_type": "code",
   "execution_count": 36,
   "id": "dacc8180",
   "metadata": {},
   "outputs": [
    {
     "name": "stdout",
     "output_type": "stream",
     "text": [
      "   prenom                     email date_naissance           pays taille\n",
      "0   Leila         leila@example.com     23/01/1990         France  1.49m\n",
      "1  Samuel    samuel_329@example.com     20/09/2001            NaN  1.67m\n",
      "2   Radia  choupipoune@supermail.eu  12 sept. 1984  Côte d'ivoire  153cm\n",
      "3    Marc       marco23@example.com     10/02/1978         France  1.65m\n",
      "4    Heri   helloworld@supermail.eu     05/03/2008     Madagascar  1.34m\n",
      "5   Hanna    hanna2019@supermail.eu     01/01/1970            NaN  3.45m\n",
      "6  samuël    samuel_329@example.com            NaN          Bénin  1.45m\n"
     ]
    }
   ],
   "source": [
    "print(data)"
   ]
  },
  {
   "cell_type": "code",
   "execution_count": 35,
   "id": "fbadbc6d",
   "metadata": {},
   "outputs": [],
   "source": [
    "data['email'] = data['email'].str.split(',', n=1, expand=True)[0]"
   ]
  },
  {
   "cell_type": "code",
   "execution_count": 37,
   "id": "c2aad009",
   "metadata": {},
   "outputs": [],
   "source": [
    "data['taille'] = data['taille'].str[:-1]"
   ]
  },
  {
   "cell_type": "code",
   "execution_count": 38,
   "id": "055b8157",
   "metadata": {},
   "outputs": [],
   "source": [
    "data['taille'] = pd.to_numeric(data['taille'], errors='coerce')"
   ]
  },
  {
   "cell_type": "code",
   "execution_count": 39,
   "id": "4a10efbf",
   "metadata": {},
   "outputs": [
    {
     "name": "stdout",
     "output_type": "stream",
     "text": [
      "   prenom                     email date_naissance           pays  taille\n",
      "0   Leila         leila@example.com     23/01/1990         France    1.49\n",
      "1  Samuel    samuel_329@example.com     20/09/2001            NaN    1.67\n",
      "2   Radia  choupipoune@supermail.eu  12 sept. 1984  Côte d'ivoire     NaN\n",
      "3    Marc       marco23@example.com     10/02/1978         France    1.65\n",
      "4    Heri   helloworld@supermail.eu     05/03/2008     Madagascar    1.34\n",
      "5   Hanna    hanna2019@supermail.eu     01/01/1970            NaN    3.45\n",
      "6  samuël    samuel_329@example.com            NaN          Bénin    1.45\n"
     ]
    }
   ],
   "source": [
    "print(data)"
   ]
  }
 ],
 "metadata": {
  "kernelspec": {
   "display_name": "Python 3 (ipykernel)",
   "language": "python",
   "name": "python3"
  },
  "language_info": {
   "codemirror_mode": {
    "name": "ipython",
    "version": 3
   },
   "file_extension": ".py",
   "mimetype": "text/x-python",
   "name": "python",
   "nbconvert_exporter": "python",
   "pygments_lexer": "ipython3",
   "version": "3.9.13"
  }
 },
 "nbformat": 4,
 "nbformat_minor": 5
}
