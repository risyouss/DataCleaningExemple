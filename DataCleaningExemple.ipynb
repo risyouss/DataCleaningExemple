{
 "cells": [
  {
   "cell_type": "code",
   "execution_count": 21,
   "id": "431c44db",
   "metadata": {},
   "outputs": [
    {
     "name": "stdout",
     "output_type": "stream",
     "text": [
      "     Position Sexe     Temps  Dept  Temps_secondes   Age\n",
      "0           1    M  00:32:23    76          779543  40.0\n",
      "1           2    M  00:32:40    27          779560  34.0\n",
      "2           3    M  00:33:15    76          779595  44.0\n",
      "3           4    M  00:33:23    76          779603  46.0\n",
      "4           5    M  00:33:29    76          779609  26.0\n",
      "..        ...  ...       ...   ...             ...   ...\n",
      "335       336    F  01:08:34    27          781714  41.0\n",
      "336       337    F  01:08:36    27          781716  48.0\n",
      "337       338    M  01:09:31    27          781771  24.0\n",
      "338       339    F  01:09:31    27          781771  25.0\n",
      "339       340    F  01:10:31    76          781831  41.0\n",
      "\n",
      "[340 rows x 6 columns]\n"
     ]
    }
   ],
   "source": [
    "import pandas as pd\n",
    "import numpy as np\n",
    "import re\n",
    "# chargement et affichage des données\n",
    "data = pd.read_csv('course.csv')\n",
    "print(data)"
   ]
  },
  {
   "cell_type": "code",
   "execution_count": 15,
   "id": "c79fa021",
   "metadata": {},
   "outputs": [
    {
     "name": "stdout",
     "output_type": "stream",
     "text": [
      "Départements n'appartenant pas à la liste attendue : [78]\n"
     ]
    }
   ],
   "source": [
    "departements_attendus = [76, 27, 14]\n",
    "\n",
    "# Identifier les départements qui n'appartiennent pas à la liste attendue\n",
    "departements_inattendus = data[~data['Dept'].isin(departements_attendus)]['Dept'].unique()\n",
    "\n",
    "# Afficher les départements inattendus\n",
    "print(\"Départements n'appartenant pas à la liste attendue :\", departements_inattendus)\n"
   ]
  },
  {
   "cell_type": "code",
   "execution_count": 16,
   "id": "2ba727b6",
   "metadata": {},
   "outputs": [
    {
     "name": "stdout",
     "output_type": "stream",
     "text": [
      "Nombre total de valeurs manquantes : 6\n",
      "Nombre de variables concernées : 2\n"
     ]
    }
   ],
   "source": [
    "# Compter le nombre de valeurs manquantes par variable\n",
    "valeurs_manquantes_par_variable = data.isnull().sum()\n",
    "\n",
    "# Filtrer les variables qui ont au moins une valeur manquante\n",
    "variables_avec_manquants = valeurs_manquantes_par_variable[valeurs_manquantes_par_variable > 0]\n",
    "\n",
    "# Afficher le nombre total de valeurs manquantes et les variables concernées\n",
    "total_valeurs_manquantes = variables_avec_manquants.sum()\n",
    "nombre_variables_concernees = len(variables_avec_manquants)\n",
    "\n",
    "print(\"Nombre total de valeurs manquantes :\", total_valeurs_manquantes)\n",
    "print(\"Nombre de variables concernées :\", nombre_variables_concernees)\n"
   ]
  },
  {
   "cell_type": "code",
   "execution_count": 17,
   "id": "7e0316e8",
   "metadata": {},
   "outputs": [
    {
     "name": "stdout",
     "output_type": "stream",
     "text": [
      "Lignes avec valeurs manquantes après la conversion de Temps :\n",
      "      Position Sexe Temps  Dept  Temps_secondes   Age\n",
      "250       251    M   NaT    27          780887  42.0\n"
     ]
    }
   ],
   "source": [
    "# Convertir la colonne \"Temps\" en format datetime\n",
    "data['Temps'] = pd.to_datetime(data['Temps'], errors='coerce')\n",
    "\n",
    "# Afficher les lignes avec des valeurs manquantes après la conversion\n",
    "valeurs_manquantes_temps = data[data['Temps'].isnull()]\n",
    "\n",
    "# Afficher les raisons des valeurs manquantes\n",
    "print(\"Lignes avec valeurs manquantes après la conversion de Temps :\\n\", valeurs_manquantes_temps)\n"
   ]
  },
  {
   "cell_type": "code",
   "execution_count": 18,
   "id": "8a94243a",
   "metadata": {},
   "outputs": [
    {
     "name": "stdout",
     "output_type": "stream",
     "text": [
      "Nombre total d'outliers dans les variables quantitatives : 2\n"
     ]
    }
   ],
   "source": [
    "variables_quantitatives = ['Position', 'Age', 'Temps_secondes']\n",
    "# Calculer les z-scores pour chaque variable\n",
    "z_scores = pd.DataFrame()\n",
    "for variable in variables_quantitatives:\n",
    "    z_scores[variable] = (data[variable] - data[variable].mean()) / data[variable].std()\n",
    "seuil_z_score = 3\n",
    "\n",
    "# Identifier les outliers\n",
    "outliers = data[(z_scores > seuil_z_score).any(axis=1)]\n",
    "\n",
    "# Afficher le nombre total d'outliers\n",
    "nombre_total_outliers = len(outliers)\n",
    "\n",
    "print(\"Nombre total d'outliers dans les variables quantitatives :\", nombre_total_outliers)\n"
   ]
  },
  {
   "cell_type": "code",
   "execution_count": 23,
   "id": "78018686",
   "metadata": {},
   "outputs": [
    {
     "name": "stdout",
     "output_type": "stream",
     "text": [
      "Nombre total de doublons dans le jeu de données : 0\n"
     ]
    }
   ],
   "source": [
    "doublons = data.duplicated(subset=['Position', 'Temps'], keep=False)\n",
    "\n",
    "# Afficher les lignes qui sont des doublons\n",
    "doublons_df = data[doublons]\n",
    "\n",
    "# Afficher le nombre total de doublons\n",
    "nombre_total_doublons = len(doublons_df)\n",
    "\n",
    "print(\"Nombre total de doublons dans le jeu de données :\", nombre_total_doublons)"
   ]
  },
  {
   "cell_type": "code",
   "execution_count": 24,
   "id": "da4c9f82",
   "metadata": {},
   "outputs": [
    {
     "name": "stdout",
     "output_type": "stream",
     "text": [
      "M    244\n",
      "F     92\n",
      "O      2\n",
      "Name: Sexe, dtype: int64\n"
     ]
    }
   ],
   "source": [
    "print(data.Sexe.value_counts())"
   ]
  }
 ],
 "metadata": {
  "kernelspec": {
   "display_name": "Python 3 (ipykernel)",
   "language": "python",
   "name": "python3"
  },
  "language_info": {
   "codemirror_mode": {
    "name": "ipython",
    "version": 3
   },
   "file_extension": ".py",
   "mimetype": "text/x-python",
   "name": "python",
   "nbconvert_exporter": "python",
   "pygments_lexer": "ipython3",
   "version": "3.9.13"
  }
 },
 "nbformat": 4,
 "nbformat_minor": 5
}
